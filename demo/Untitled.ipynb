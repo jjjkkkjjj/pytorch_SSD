{
 "cells": [
  {
   "cell_type": "code",
   "execution_count": 1,
   "metadata": {},
   "outputs": [],
   "source": [
    "import sys\n",
    "sys.path.append('../')\n",
    "\n",
    "from data import datasets\n",
    "from data import transforms, target_transforms, augmentations, utils\n",
    "\n",
    "from ssd.models.ssd300 import SSD300\n",
    "\n",
    "from torch.utils.data import DataLoader"
   ]
  },
  {
   "cell_type": "code",
   "execution_count": 2,
   "metadata": {},
   "outputs": [],
   "source": [
    "augmentaion = augmentations.Compose(\n",
    "    []\n",
    ")\n",
    "\n",
    "transform = transforms.Compose(\n",
    "    [transforms.Normalize(rgb_means=(103.939, 116.779, 123.68), rgb_stds=1),\n",
    "     transforms.Resize((300, 300)),\n",
    "     transforms.ToTensor()]\n",
    ")\n",
    "target_transform = target_transforms.Compose(\n",
    "    [target_transforms.Ignore(difficult=True),\n",
    "     target_transforms.ToCentroids(),\n",
    "     target_transforms.OneHot(class_nums=datasets.VOC_class_nums),\n",
    "     target_transforms.ToTensor()]\n",
    ")\n",
    "\n",
    "test_dataset = datasets.Compose(datasets.VOC_class_nums,\n",
    "                                 datasets=(datasets.VOC2007Dataset, datasets.VOC2012_TrainValDataset),\n",
    "                                 transform=transform, target_transform=target_transform, augmentation=augmentaion)\n",
    "\n",
    "test_loader = DataLoader(test_dataset,\n",
    "                          batch_size=32,\n",
    "                          shuffle=False,\n",
    "                          collate_fn=utils.batch_ind_fn)"
   ]
  },
  {
   "cell_type": "code",
   "execution_count": null,
   "metadata": {},
   "outputs": [],
   "source": [
    "model = SSD300(class_nums=test_dataset.class_nums, batch_norm=False)\n",
    "model.load_weights('weights/checkpoints/ssd300-voc2007_i-0018000_checkpoints20200430.pth')\n",
    "model.eval()\n",
    "\n",
    "images = [test_dataset[i][0] for i in range(50)]\n",
    "inf = model.inference(images)"
   ]
  }
 ],
 "metadata": {
  "kernelspec": {
   "display_name": "Python 3",
   "language": "python",
   "name": "python3"
  },
  "language_info": {
   "codemirror_mode": {
    "name": "ipython",
    "version": 3
   },
   "file_extension": ".py",
   "mimetype": "text/x-python",
   "name": "python",
   "nbconvert_exporter": "python",
   "pygments_lexer": "ipython3",
   "version": "3.6.7"
  }
 },
 "nbformat": 4,
 "nbformat_minor": 4
}
