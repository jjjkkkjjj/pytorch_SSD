{
 "cells": [
  {
   "cell_type": "markdown",
   "metadata": {},
   "source": [
    "# Load module"
   ]
  },
  {
   "cell_type": "code",
   "execution_count": 1,
   "metadata": {},
   "outputs": [],
   "source": [
    "import sys\n",
    "sys.path.append('../')\n",
    "\n",
    "from data.datasets import VOC2007Dataset\n",
    "from data import transforms, utils\n",
    "\n",
    "from models.ssd300 import SSD300\n",
    "from models.core.loss import SSDLoss\n",
    "from models.core.trainer import Trainer\n",
    "\n",
    "#from torchvision import transforms > not import!!\n",
    "from torch.utils.data import DataLoader\n",
    "from torch.optim.sgd import SGD"
   ]
  },
  {
   "cell_type": "markdown",
   "metadata": {},
   "source": [
    "# Load Dataset"
   ]
  },
  {
   "cell_type": "code",
   "execution_count": 3,
   "metadata": {},
   "outputs": [],
   "source": [
    "transform = transforms.Compose(\n",
    "        [transforms.Ignore(ignore_difficult=True),\n",
    "         transforms.Normalize(),\n",
    "         transforms.Centered(),\n",
    "         transforms.Resize((300, 300)), # if resizing first, can't be normalized\n",
    "         transforms.OneHot(class_nums=VOC2007Dataset.class_nums),\n",
    "         transforms.ToTensor()]\n",
    "    )\n",
    "train_dataset = VOC2007Dataset(transform=transform)\n",
    "\n",
    "train_loader = DataLoader(train_dataset,\n",
    "                          batch_size=32,\n",
    "                          shuffle=True,\n",
    "                          collate_fn=utils.batch_ind_fn)"
   ]
  },
  {
   "cell_type": "markdown",
   "metadata": {},
   "source": [
    "# Define model"
   ]
  },
  {
   "cell_type": "code",
   "execution_count": 4,
   "metadata": {},
   "outputs": [
    {
     "name": "stdout",
     "output_type": "stream",
     "text": [
      "SSD300(\n",
      "  (feature_layers): ModuleDict(\n",
      "    (conv1_1): Conv2d(3, 64, kernel_size=(3, 3), stride=(1, 1), padding=(1, 1))\n",
      "    (relu1_1): ReLU()\n",
      "    (conv1_2): Conv2d(64, 64, kernel_size=(3, 3), stride=(1, 1), padding=(1, 1))\n",
      "    (relu1_2): ReLU()\n",
      "    (pool1): MaxPool2d(kernel_size=(2, 2), stride=(2, 2), padding=0, dilation=1, ceil_mode=False)\n",
      "    (conv2_1): Conv2d(64, 128, kernel_size=(3, 3), stride=(1, 1), padding=(1, 1))\n",
      "    (relu2_1): ReLU()\n",
      "    (conv2_2): Conv2d(128, 128, kernel_size=(3, 3), stride=(1, 1), padding=(1, 1))\n",
      "    (relu2_2): ReLU()\n",
      "    (pool2): MaxPool2d(kernel_size=(2, 2), stride=(2, 2), padding=0, dilation=1, ceil_mode=False)\n",
      "    (conv3_1): Conv2d(128, 256, kernel_size=(3, 3), stride=(1, 1), padding=(1, 1))\n",
      "    (relu3_1): ReLU()\n",
      "    (conv3_2): Conv2d(256, 256, kernel_size=(3, 3), stride=(1, 1), padding=(1, 1))\n",
      "    (relu3_2): ReLU()\n",
      "    (conv3_3): Conv2d(256, 256, kernel_size=(3, 3), stride=(1, 1), padding=(1, 1))\n",
      "    (relu3_3): ReLU()\n",
      "    (pool3): MaxPool2d(kernel_size=(2, 2), stride=(2, 2), padding=0, dilation=1, ceil_mode=True)\n",
      "    (conv4_1): Conv2d(256, 512, kernel_size=(3, 3), stride=(1, 1), padding=(1, 1))\n",
      "    (relu4_1): ReLU()\n",
      "    (conv4_2): Conv2d(512, 512, kernel_size=(3, 3), stride=(1, 1), padding=(1, 1))\n",
      "    (relu4_2): ReLU()\n",
      "    (conv4_3): Conv2d(512, 512, kernel_size=(3, 3), stride=(1, 1), padding=(1, 1))\n",
      "    (relu4_3): ReLU()\n",
      "    (pool4): MaxPool2d(kernel_size=(2, 2), stride=(2, 2), padding=0, dilation=1, ceil_mode=False)\n",
      "    (conv5_1): Conv2d(512, 512, kernel_size=(3, 3), stride=(1, 1), padding=(1, 1))\n",
      "    (relu5_1): ReLU()\n",
      "    (conv5_2): Conv2d(512, 512, kernel_size=(3, 3), stride=(1, 1), padding=(1, 1))\n",
      "    (relu5_2): ReLU()\n",
      "    (conv5_3): Conv2d(512, 512, kernel_size=(3, 3), stride=(1, 1), padding=(1, 1))\n",
      "    (relu5_3): ReLU()\n",
      "    (pool5): MaxPool2d(kernel_size=(3, 3), stride=(1, 1), padding=1, dilation=1, ceil_mode=False)\n",
      "    (conv6): Conv2d(512, 1024, kernel_size=(3, 3), stride=(1, 1), padding=(6, 6), dilation=(6, 6))\n",
      "    (relu6): ReLU()\n",
      "    (conv7): Conv2d(1024, 1024, kernel_size=(1, 1), stride=(1, 1))\n",
      "    (relu7): ReLU()\n",
      "    (conv8_1): Conv2d(1024, 256, kernel_size=(1, 1), stride=(1, 1))\n",
      "    (relu8_1): ReLU()\n",
      "    (conv8_2): Conv2d(256, 512, kernel_size=(3, 3), stride=(2, 2), padding=(1, 1))\n",
      "    (relu8_2): ReLU()\n",
      "    (conv9_1): Conv2d(512, 128, kernel_size=(1, 1), stride=(1, 1))\n",
      "    (relu9_1): ReLU()\n",
      "    (conv9_2): Conv2d(128, 256, kernel_size=(3, 3), stride=(2, 2), padding=(1, 1))\n",
      "    (relu9_2): ReLU()\n",
      "    (conv10_1): Conv2d(256, 128, kernel_size=(1, 1), stride=(1, 1))\n",
      "    (relu10_1): ReLU()\n",
      "    (conv10_2): Conv2d(128, 256, kernel_size=(3, 3), stride=(1, 1))\n",
      "    (relu10_2): ReLU()\n",
      "    (conv11_1): Conv2d(256, 128, kernel_size=(1, 1), stride=(1, 1))\n",
      "    (relu11_1): ReLU()\n",
      "    (conv11_2): Conv2d(128, 256, kernel_size=(3, 3), stride=(1, 1))\n",
      "    (relu11_2): ReLU()\n",
      "  )\n",
      "  (classifier_layers): ModuleDict(\n",
      "    (feature1): Sequential(\n",
      "      (l2norm_feature1): L2Normalization()\n",
      "      (conv_feature1): Conv2d(512, 100, kernel_size=(3, 3), stride=(1, 1), padding=(1, 1))\n",
      "      (relu_feature1): ReLU()\n",
      "    )\n",
      "    (feature2): Sequential(\n",
      "      (conv_feature2): Conv2d(1024, 150, kernel_size=(3, 3), stride=(1, 1), padding=(1, 1))\n",
      "      (relu_feature2): ReLU()\n",
      "    )\n",
      "    (feature3): Sequential(\n",
      "      (conv_feature3): Conv2d(512, 150, kernel_size=(3, 3), stride=(1, 1), padding=(1, 1))\n",
      "      (relu_feature3): ReLU()\n",
      "    )\n",
      "    (feature4): Sequential(\n",
      "      (conv_feature4): Conv2d(256, 150, kernel_size=(3, 3), stride=(1, 1), padding=(1, 1))\n",
      "      (relu_feature4): ReLU()\n",
      "    )\n",
      "    (feature5): Sequential(\n",
      "      (conv_feature5): Conv2d(256, 100, kernel_size=(3, 3), stride=(1, 1), padding=(1, 1))\n",
      "      (relu_feature5): ReLU()\n",
      "    )\n",
      "    (feature6): Sequential(\n",
      "      (conv_feature6): Conv2d(256, 100, kernel_size=(3, 3), stride=(1, 1), padding=(1, 1))\n",
      "      (relu_feature6): ReLU()\n",
      "    )\n",
      "  )\n",
      "  (predictor): Predictor()\n",
      ")\n"
     ]
    }
   ],
   "source": [
    "model = SSD300(class_nums=train_dataset.class_nums, batch_norm=False)\n",
    "model.load_vgg_weights()\n",
    "print(model)"
   ]
  },
  {
   "cell_type": "markdown",
   "metadata": {},
   "source": [
    "# Run training"
   ]
  },
  {
   "cell_type": "code",
   "execution_count": null,
   "metadata": {},
   "outputs": [],
   "source": [
    "optimizer = SGD(model.parameters(), lr=1e-3, momentum=0.9, weight_decay=5e-4)\n",
    "\n",
    "trainer = Trainer(model, loss_func=SSDLoss(), optimizer=optimizer, gpu=True)\n",
    "trainer.train(10, train_loader)"
   ]
  }
 ],
 "metadata": {
  "kernelspec": {
   "display_name": "Python 3",
   "language": "python",
   "name": "python3"
  },
  "language_info": {
   "codemirror_mode": {
    "name": "ipython",
    "version": 3
   },
   "file_extension": ".py",
   "mimetype": "text/x-python",
   "name": "python",
   "nbconvert_exporter": "python",
   "pygments_lexer": "ipython3",
   "version": "3.6.7"
  }
 },
 "nbformat": 4,
 "nbformat_minor": 2
}
